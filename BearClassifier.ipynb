{
 "cells": [
  {
   "cell_type": "markdown",
   "id": "22bc5c33-70fe-44e2-94ad-ba23c5e44e6e",
   "metadata": {},
   "source": [
    "# Bear Classifier"
   ]
  },
  {
   "cell_type": "code",
   "execution_count": 8,
   "id": "c85e1a37-270c-41da-b049-3ed927dbbc79",
   "metadata": {},
   "outputs": [
    {
     "name": "stdout",
     "output_type": "stream",
     "text": [
      "Requirement already satisfied: voila in /root/mambaforge/lib/python3.9/site-packages (0.3.6)\n",
      "Requirement already satisfied: nbconvert<7,>=6.4.5 in /root/mambaforge/lib/python3.9/site-packages (from voila) (6.5.0)\n",
      "Requirement already satisfied: websockets>=9.0 in /root/mambaforge/lib/python3.9/site-packages (from voila) (10.3)\n",
      "Requirement already satisfied: jupyter-client<8,>=6.1.3 in /root/mambaforge/lib/python3.9/site-packages (from voila) (7.3.4)\n",
      "Requirement already satisfied: jupyterlab-server<3,>=2.3.0 in /root/mambaforge/lib/python3.9/site-packages (from voila) (2.14.0)\n",
      "Requirement already satisfied: jupyter-server<2.0.0,>=1.18 in /root/mambaforge/lib/python3.9/site-packages (from voila) (1.18.0)\n",
      "Requirement already satisfied: nbclient<0.6,>=0.4.0 in /root/mambaforge/lib/python3.9/site-packages (from voila) (0.5.13)\n",
      "Requirement already satisfied: jupyter-core>=4.11.0 in /root/mambaforge/lib/python3.9/site-packages (from voila) (4.11.1)\n",
      "Requirement already satisfied: traitlets<6,>=5.0.3 in /root/mambaforge/lib/python3.9/site-packages (from voila) (5.3.0)\n",
      "Requirement already satisfied: nest-asyncio>=1.5.4 in /root/mambaforge/lib/python3.9/site-packages (from jupyter-client<8,>=6.1.3->voila) (1.5.5)\n",
      "Requirement already satisfied: python-dateutil>=2.8.2 in /root/mambaforge/lib/python3.9/site-packages (from jupyter-client<8,>=6.1.3->voila) (2.8.2)\n",
      "Requirement already satisfied: entrypoints in /root/mambaforge/lib/python3.9/site-packages (from jupyter-client<8,>=6.1.3->voila) (0.4)\n",
      "Requirement already satisfied: tornado>=6.0 in /root/mambaforge/lib/python3.9/site-packages (from jupyter-client<8,>=6.1.3->voila) (6.1)\n",
      "Requirement already satisfied: pyzmq>=23.0 in /root/mambaforge/lib/python3.9/site-packages (from jupyter-client<8,>=6.1.3->voila) (23.2.0)\n",
      "Requirement already satisfied: terminado>=0.8.3 in /root/mambaforge/lib/python3.9/site-packages (from jupyter-server<2.0.0,>=1.18->voila) (0.15.0)\n",
      "Requirement already satisfied: prometheus-client in /root/mambaforge/lib/python3.9/site-packages (from jupyter-server<2.0.0,>=1.18->voila) (0.9.0)\n",
      "Requirement already satisfied: Send2Trash in /root/mambaforge/lib/python3.9/site-packages (from jupyter-server<2.0.0,>=1.18->voila) (1.8.0)\n",
      "Requirement already satisfied: jinja2 in /root/mambaforge/lib/python3.9/site-packages (from jupyter-server<2.0.0,>=1.18->voila) (3.1.2)\n",
      "Requirement already satisfied: packaging in /root/mambaforge/lib/python3.9/site-packages (from jupyter-server<2.0.0,>=1.18->voila) (21.3)\n",
      "Requirement already satisfied: anyio<4,>=3.1.0 in /root/mambaforge/lib/python3.9/site-packages (from jupyter-server<2.0.0,>=1.18->voila) (3.6.1)\n",
      "Requirement already satisfied: nbformat>=5.2.0 in /root/mambaforge/lib/python3.9/site-packages (from jupyter-server<2.0.0,>=1.18->voila) (5.4.0)\n",
      "Requirement already satisfied: argon2-cffi in /root/mambaforge/lib/python3.9/site-packages (from jupyter-server<2.0.0,>=1.18->voila) (21.3.0)\n",
      "Requirement already satisfied: websocket-client in /root/mambaforge/lib/python3.9/site-packages (from jupyter-server<2.0.0,>=1.18->voila) (0.57.0)\n",
      "Requirement already satisfied: importlib-metadata>=3.6 in /root/mambaforge/lib/python3.9/site-packages (from jupyterlab-server<3,>=2.3.0->voila) (4.11.4)\n",
      "Requirement already satisfied: requests in /root/mambaforge/lib/python3.9/site-packages (from jupyterlab-server<3,>=2.3.0->voila) (2.27.1)\n",
      "Requirement already satisfied: jsonschema>=3.0.1 in /root/mambaforge/lib/python3.9/site-packages (from jupyterlab-server<3,>=2.3.0->voila) (4.6.1)\n",
      "Requirement already satisfied: babel in /root/mambaforge/lib/python3.9/site-packages (from jupyterlab-server<3,>=2.3.0->voila) (2.10.3)\n",
      "Requirement already satisfied: json5 in /root/mambaforge/lib/python3.9/site-packages (from jupyterlab-server<3,>=2.3.0->voila) (0.9.5)\n",
      "Requirement already satisfied: defusedxml in /root/mambaforge/lib/python3.9/site-packages (from nbconvert<7,>=6.4.5->voila) (0.7.1)\n",
      "Requirement already satisfied: pygments>=2.4.1 in /root/mambaforge/lib/python3.9/site-packages (from nbconvert<7,>=6.4.5->voila) (2.12.0)\n",
      "Requirement already satisfied: mistune<2,>=0.8.1 in /root/mambaforge/lib/python3.9/site-packages (from nbconvert<7,>=6.4.5->voila) (0.8.4)\n",
      "Requirement already satisfied: jupyterlab-pygments in /root/mambaforge/lib/python3.9/site-packages (from nbconvert<7,>=6.4.5->voila) (0.2.2)\n",
      "Requirement already satisfied: pandocfilters>=1.4.1 in /root/mambaforge/lib/python3.9/site-packages (from nbconvert<7,>=6.4.5->voila) (1.5.0)\n",
      "Requirement already satisfied: MarkupSafe>=2.0 in /root/mambaforge/lib/python3.9/site-packages (from nbconvert<7,>=6.4.5->voila) (2.1.1)\n",
      "Requirement already satisfied: beautifulsoup4 in /root/mambaforge/lib/python3.9/site-packages (from nbconvert<7,>=6.4.5->voila) (4.11.1)\n",
      "Requirement already satisfied: tinycss2 in /root/mambaforge/lib/python3.9/site-packages (from nbconvert<7,>=6.4.5->voila) (1.1.1)\n",
      "Requirement already satisfied: bleach in /root/mambaforge/lib/python3.9/site-packages (from nbconvert<7,>=6.4.5->voila) (5.0.1)\n",
      "Requirement already satisfied: idna>=2.8 in /root/mambaforge/lib/python3.9/site-packages (from anyio<4,>=3.1.0->jupyter-server<2.0.0,>=1.18->voila) (3.3)\n",
      "Requirement already satisfied: sniffio>=1.1 in /root/mambaforge/lib/python3.9/site-packages (from anyio<4,>=3.1.0->jupyter-server<2.0.0,>=1.18->voila) (1.2.0)\n",
      "Requirement already satisfied: zipp>=0.5 in /root/mambaforge/lib/python3.9/site-packages (from importlib-metadata>=3.6->jupyterlab-server<3,>=2.3.0->voila) (3.8.0)\n",
      "Requirement already satisfied: pyrsistent!=0.17.0,!=0.17.1,!=0.17.2,>=0.14.0 in /root/mambaforge/lib/python3.9/site-packages (from jsonschema>=3.0.1->jupyterlab-server<3,>=2.3.0->voila) (0.18.1)\n",
      "Requirement already satisfied: attrs>=17.4.0 in /root/mambaforge/lib/python3.9/site-packages (from jsonschema>=3.0.1->jupyterlab-server<3,>=2.3.0->voila) (18.2.0)\n",
      "Requirement already satisfied: fastjsonschema in /root/mambaforge/lib/python3.9/site-packages (from nbformat>=5.2.0->jupyter-server<2.0.0,>=1.18->voila) (2.15.3)\n",
      "Requirement already satisfied: six>=1.5 in /root/mambaforge/lib/python3.9/site-packages (from python-dateutil>=2.8.2->jupyter-client<8,>=6.1.3->voila) (1.16.0)\n",
      "Requirement already satisfied: ptyprocess in /root/mambaforge/lib/python3.9/site-packages (from terminado>=0.8.3->jupyter-server<2.0.0,>=1.18->voila) (0.7.0)\n",
      "Requirement already satisfied: argon2-cffi-bindings in /root/mambaforge/lib/python3.9/site-packages (from argon2-cffi->jupyter-server<2.0.0,>=1.18->voila) (21.2.0)\n",
      "Requirement already satisfied: pytz>=2015.7 in /root/mambaforge/lib/python3.9/site-packages (from babel->jupyterlab-server<3,>=2.3.0->voila) (2022.1)\n",
      "Requirement already satisfied: soupsieve>1.2 in /root/mambaforge/lib/python3.9/site-packages (from beautifulsoup4->nbconvert<7,>=6.4.5->voila) (2.3.1)\n",
      "Requirement already satisfied: webencodings in /root/mambaforge/lib/python3.9/site-packages (from bleach->nbconvert<7,>=6.4.5->voila) (0.5.1)\n",
      "Requirement already satisfied: pyparsing!=3.0.5,>=2.0.2 in /root/mambaforge/lib/python3.9/site-packages (from packaging->jupyter-server<2.0.0,>=1.18->voila) (3.0.9)\n",
      "Requirement already satisfied: urllib3<1.27,>=1.21.1 in /root/mambaforge/lib/python3.9/site-packages (from requests->jupyterlab-server<3,>=2.3.0->voila) (1.26.9)\n",
      "Requirement already satisfied: charset-normalizer~=2.0.0 in /root/mambaforge/lib/python3.9/site-packages (from requests->jupyterlab-server<3,>=2.3.0->voila) (2.0.12)\n",
      "Requirement already satisfied: certifi>=2017.4.17 in /root/mambaforge/lib/python3.9/site-packages (from requests->jupyterlab-server<3,>=2.3.0->voila) (2022.6.15)\n",
      "Requirement already satisfied: cffi>=1.0.1 in /root/mambaforge/lib/python3.9/site-packages (from argon2-cffi-bindings->argon2-cffi->jupyter-server<2.0.0,>=1.18->voila) (1.15.0)\n",
      "Requirement already satisfied: pycparser in /root/mambaforge/lib/python3.9/site-packages (from cffi>=1.0.1->argon2-cffi-bindings->argon2-cffi->jupyter-server<2.0.0,>=1.18->voila) (2.21)\n",
      "\u001b[33mWARNING: Running pip as the 'root' user can result in broken permissions and conflicting behaviour with the system package manager. It is recommended to use a virtual environment instead: https://pip.pypa.io/warnings/venv\u001b[0m\u001b[33m\n",
      "\u001b[0mEnabling: voila\n",
      "- Writing config: /root/mambaforge/etc/jupyter\n",
      "    - Validating...\n",
      "      voila 0.3.6 \u001b[32mOK\u001b[0m\n"
     ]
    },
    {
     "data": {
      "text/plain": [
       "''"
      ]
     },
     "execution_count": 8,
     "metadata": {},
     "output_type": "execute_result"
    }
   ],
   "source": [
    "!pip install voila \n",
    "!jupyter serverextension enable --sys-prefix voila \n"
   ]
  },
  {
   "cell_type": "code",
   "execution_count": 1,
   "id": "ef4b6948-9fe9-455c-abea-d1e0ab42721e",
   "metadata": {},
   "outputs": [],
   "source": [
    "\n",
    "from fastbook import *\n",
    "from fastai.vision.widgets import *"
   ]
  },
  {
   "cell_type": "code",
   "execution_count": 2,
   "id": "1c2a82fe-bf22-4885-88d6-f04aa1a92584",
   "metadata": {},
   "outputs": [],
   "source": [
    "#Find Model and import for inference\n",
    "path = Path()\n",
    "learn_inf = load_learner(path/'export.pkl')\n",
    "\n",
    "#Set up upload button\n",
    "btn_upload = widgets.FileUpload()\n",
    "\n",
    "#Set up output widget\n",
    "out_pl = widgets.Output()\n",
    "\n",
    "#Set up label widget\n",
    "lbl_pred = widgets.Label()\n",
    "\n",
    "#Set up classification button\n",
    "btn_run = widgets.Button(description='Classify')"
   ]
  },
  {
   "cell_type": "code",
   "execution_count": 3,
   "id": "9f7d5936-4158-4fd2-b251-dade066dc786",
   "metadata": {},
   "outputs": [],
   "source": [
    "#Function for what happens when you click 'Classify'\n",
    "def on_click_classify(change):\n",
    "    #Use the upload data\n",
    "    img = PILImage.create(btn_upload.data[-1])\n",
    "    #Show it\n",
    "    out_pl.clear_output()\n",
    "    with out_pl: display(img.to_thumb(128,128))\n",
    "    #Print predictions\n",
    "    pred,pred_idx,probs = learn_inf.predict(img)\n",
    "    lbl_pred.value = f'Prediction: {pred}; Probability: {probs[pred_idx]:.04f}'\n",
    "    \n",
    "btn_run.on_click(on_click_classify)"
   ]
  },
  {
   "cell_type": "code",
   "execution_count": 4,
   "id": "bc0ce282-822f-415e-a43f-4657c2942b41",
   "metadata": {},
   "outputs": [
    {
     "data": {
      "application/vnd.jupyter.widget-view+json": {
       "model_id": "2efa3eacd38549f7ba3d6369620953cc",
       "version_major": 2,
       "version_minor": 0
      },
      "text/plain": [
       "VBox(children=(Label(value='Select your bear!'), FileUpload(value={}, description='Upload'), Button(descriptio…"
      ]
     },
     "metadata": {},
     "output_type": "display_data"
    }
   ],
   "source": [
    "VBox([widgets.Label('Select your bear!'), \n",
    "      btn_upload, btn_run, out_pl, lbl_pred])"
   ]
  },
  {
   "cell_type": "code",
   "execution_count": null,
   "id": "c8584092-2942-4c47-8ef2-fb0c37b05a61",
   "metadata": {},
   "outputs": [],
   "source": []
  }
 ],
 "metadata": {
  "kernelspec": {
   "display_name": "Python 3 (ipykernel)",
   "language": "python",
   "name": "python3"
  },
  "language_info": {
   "codemirror_mode": {
    "name": "ipython",
    "version": 3
   },
   "file_extension": ".py",
   "mimetype": "text/x-python",
   "name": "python",
   "nbconvert_exporter": "python",
   "pygments_lexer": "ipython3",
   "version": "3.9.13"
  }
 },
 "nbformat": 4,
 "nbformat_minor": 5
}
