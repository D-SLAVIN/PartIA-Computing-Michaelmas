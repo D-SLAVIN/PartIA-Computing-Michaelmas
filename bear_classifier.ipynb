{
 "cells": [
  {
   "cell_type": "markdown",
   "id": "22bc5c33-70fe-44e2-94ad-ba23c5e44e6e",
   "metadata": {},
   "source": [
    "# Bear Classifier"
   ]
  },
  {
   "cell_type": "code",
   "execution_count": null,
   "id": "7c1f027f",
   "metadata": {},
   "outputs": [],
   "source": []
  },
  {
   "cell_type": "code",
   "execution_count": 1,
   "id": "ef4b6948-9fe9-455c-abea-d1e0ab42721e",
   "metadata": {},
   "outputs": [],
   "source": [
    "from fastai.vision.all import *\n",
    "from fastai.vision.widgets import *"
   ]
  },
  {
   "cell_type": "code",
   "execution_count": 2,
   "id": "1c2a82fe-bf22-4885-88d6-f04aa1a92584",
   "metadata": {},
   "outputs": [],
   "source": [
    "#Find Model and import for inference\n",
    "path = Path()\n",
    "learn_inf = load_learner(path/'export.pkl', cpu=True)\n",
    "\n",
    "#Set up upload button\n",
    "btn_upload = widgets.FileUpload()\n",
    "\n",
    "#Set up output widget\n",
    "out_pl = widgets.Output()\n",
    "\n",
    "#Set up label widget\n",
    "lbl_pred = widgets.Label()\n",
    "\n",
    "#Set up classification button\n",
    "btn_run = widgets.Button(description='Classify')"
   ]
  },
  {
   "cell_type": "code",
   "execution_count": 3,
   "id": "9f7d5936-4158-4fd2-b251-dade066dc786",
   "metadata": {},
   "outputs": [],
   "source": [
    "#Function for what happens when you click 'Classify'\n",
    "def on_click_classify(change):\n",
    "    #Use the upload data\n",
    "    img = PILImage.create(btn_upload.data[-1])\n",
    "    #Show it\n",
    "    out_pl.clear_output()\n",
    "    with out_pl: display(img.to_thumb(128,128))\n",
    "    #Print predictions\n",
    "    pred,pred_idx,probs = learn_inf.predict(img)\n",
    "    lbl_pred.value = f'Prediction: {pred}; Probability: {probs[pred_idx]:.04f}'\n",
    "    \n",
    "btn_run.on_click(on_click_classify)"
   ]
  },
  {
   "cell_type": "code",
   "execution_count": 4,
   "id": "bc0ce282-822f-415e-a43f-4657c2942b41",
   "metadata": {},
   "outputs": [
    {
     "data": {
      "application/vnd.jupyter.widget-view+json": {
       "model_id": "2efa3eacd38549f7ba3d6369620953cc",
       "version_major": 2,
       "version_minor": 0
      },
      "text/plain": [
       "VBox(children=(Label(value='Select your bear!'), FileUpload(value={}, description='Upload'), Button(descriptio…"
      ]
     },
     "metadata": {},
     "output_type": "display_data"
    }
   ],
   "source": [
    "display(VBox([widgets.Label('Select your bear!'), btn_upload, out_pl, lbl_pred]))"
   ]
  },
  {
   "cell_type": "code",
   "execution_count": null,
   "id": "c8584092-2942-4c47-8ef2-fb0c37b05a61",
   "metadata": {},
   "outputs": [],
   "source": []
  }
 ],
 "metadata": {
  "kernelspec": {
   "display_name": "Python 3 (ipykernel)",
   "language": "python",
   "name": "python3"
  },
  "language_info": {
   "codemirror_mode": {
    "name": "ipython",
    "version": 3
   },
   "file_extension": ".py",
   "mimetype": "text/x-python",
   "name": "python",
   "nbconvert_exporter": "python",
   "pygments_lexer": "ipython3",
   "version": "3.8.13"
  }
 },
 "nbformat": 4,
 "nbformat_minor": 5
}
